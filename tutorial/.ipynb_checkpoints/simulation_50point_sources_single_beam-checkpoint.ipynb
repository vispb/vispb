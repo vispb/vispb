{
 "cells": [
  {
   "cell_type": "markdown",
   "id": "1a5cb851",
   "metadata": {},
   "source": [
    "### This notebook demonstrates how to run a simple visibility simulation with 20 random point sources and an airy beam"
   ]
  },
  {
   "cell_type": "code",
   "execution_count": 1,
   "id": "6c0bdbfd",
   "metadata": {
    "ExecuteTime": {
     "end_time": "2023-03-31T20:54:49.406221Z",
     "start_time": "2023-03-31T20:54:47.114916Z"
    }
   },
   "outputs": [],
   "source": [
    "import numpy as np\n",
    "import matplotlib.pyplot as plt\n",
    "import os\n",
    "\n",
    "from VisPB import Sky_Model, Beam_Model, Vis_Simulator"
   ]
  },
  {
   "cell_type": "markdown",
   "id": "b8097105",
   "metadata": {},
   "source": [
    "### Setting up the antenna configuration"
   ]
  },
  {
   "cell_type": "markdown",
   "id": "2ab9435d",
   "metadata": {},
   "source": [
    "Antenna configuration should be set up in a dictionary form for the visibility simulation"
   ]
  },
  {
   "cell_type": "code",
   "execution_count": 2,
   "id": "753bc220",
   "metadata": {
    "ExecuteTime": {
     "end_time": "2023-03-31T20:54:49.414479Z",
     "start_time": "2023-03-31T20:54:49.409327Z"
    }
   },
   "outputs": [],
   "source": [
    "antenna_config = {0: [0., 0., 0.],\n",
    "                  1: [14.6, 0. , 0.],\n",
    "                  2: [-7.3, 12.64, 0.],\n",
    "                  3: [7.3, 12.64, 0.],\n",
    "                  4: [21.9, 12.64, 0.],\n",
    "                  5: [0., 25.29, 0.],\n",
    "                  6: [14.6, 25.29, 0.]}\n",
    "ants = list(antenna_config.keys())"
   ]
  },
  {
   "cell_type": "code",
   "execution_count": 3,
   "id": "670ebb4a",
   "metadata": {
    "ExecuteTime": {
     "end_time": "2023-03-31T20:54:49.654239Z",
     "start_time": "2023-03-31T20:54:49.417097Z"
    }
   },
   "outputs": [
    {
     "data": {
      "text/plain": [
       "(-5.0, 30.29)"
      ]
     },
     "execution_count": 3,
     "metadata": {},
     "output_type": "execute_result"
    },
    {
     "data": {
      "image/png": "[encoded data removed]",
      "text/plain": [
       "<Figure size 450x450 with 1 Axes>"
      ]
     },
     "metadata": {},
     "output_type": "display_data"
    }
   ],
   "source": [
    "ant_pos = np.asarray(list(antenna_config.values()))\n",
    "x = ant_pos[:,0]\n",
    "y = ant_pos[:,1]\n",
    "buffer_plot = 5\n",
    "\n",
    "plt.figure(figsize=(3,3), dpi=150)\n",
    "plt.scatter(x, y, s=1000)\n",
    "for i, (x_i, y_i) in enumerate(zip(x, y)):\n",
    "    plt.text(x_i, y_i, i, horizontalalignment='center', verticalalignment='center')\n",
    "plt.xlabel('x (m)')\n",
    "plt.ylabel('y (m)')\n",
    "plt.xlim(x.min()-buffer_plot, x.max()+buffer_plot)\n",
    "plt.ylim(y.min()-buffer_plot, y.max()+buffer_plot)"
   ]
  },
  {
   "cell_type": "markdown",
   "id": "559516c4",
   "metadata": {},
   "source": [
    "### Constructing and reading sky model using pyradiosky"
   ]
  },
  {
   "cell_type": "markdown",
   "id": "6ed4a768",
   "metadata": {},
   "source": [
    "Sky_Model can read \"gleam\", \"gsm08\", \"gsm16\", and pyradiosky-readable dictionary or file.\n",
    "\n",
    "Here we give an example for a source dictionary to feed in pyradiosky."
   ]
  },
  {
   "cell_type": "code",
   "execution_count": 4,
   "id": "7d340e38",
   "metadata": {
    "ExecuteTime": {
     "end_time": "2023-03-31T20:54:49.666866Z",
     "start_time": "2023-03-31T20:54:49.657388Z"
    }
   },
   "outputs": [],
   "source": [
    "from astropy import units as u\n",
    "from astropy.coordinates import Longitude, Latitude\n",
    "\n",
    "Ncomponents = 50\n",
    "Nfreqs_src = 61\n",
    "\n",
    "np.random.seed(47246)\n",
    "\n",
    "ra = Longitude(np.random.uniform(0, 360, Ncomponents) * u.degree)\n",
    "dec = Latitude(np.random.uniform(-90, 90, Ncomponents) * u.degree)\n",
    "\n",
    "names = ['{:06d}'.format(i) for i in range(Ncomponents)]\n",
    "\n",
    "spectral_type = 'subband'\n",
    "freq_array = np.linspace(120e6, 180e6, Nfreqs_src) * u.Hz\n",
    "\n",
    "stokes = np.zeros((4, Nfreqs_src, Ncomponents)) * u.Jy\n",
    "stokes[0, :, :] = np.random.uniform(1, 10, Nfreqs_src*Ncomponents).reshape(Nfreqs_src, Ncomponents) * u.Jy\n",
    "\n",
    "source_params = {\n",
    "    'name': names,\n",
    "    'ra': ra,\n",
    "    'dec': dec,\n",
    "    'freq_array': freq_array,\n",
    "    'stokes': stokes,\n",
    "    'spectral_type': spectral_type,\n",
    "    'history': ' test catalog with 50 sources.\\n'\n",
    "}"
   ]
  },
  {
   "cell_type": "code",
   "execution_count": 5,
   "id": "aa1e5383",
   "metadata": {
    "ExecuteTime": {
     "end_time": "2023-03-31T20:54:49.676959Z",
     "start_time": "2023-03-31T20:54:49.669045Z"
    }
   },
   "outputs": [],
   "source": [
    "Nfreqs = 121\n",
    "freqs = np.linspace(120e6, 180e6, Nfreqs) # frequencies where the flux density will be evaluated"
   ]
  },
  {
   "cell_type": "code",
   "execution_count": 6,
   "id": "a37c11b1",
   "metadata": {
    "ExecuteTime": {
     "end_time": "2023-03-31T20:54:49.693766Z",
     "start_time": "2023-03-31T20:54:49.679078Z"
    }
   },
   "outputs": [],
   "source": [
    "sky_model = Sky_Model(source_params, freqs)"
   ]
  },
  {
   "cell_type": "code",
   "execution_count": 7,
   "id": "cd2167c2",
   "metadata": {
    "ExecuteTime": {
     "end_time": "2023-03-31T20:54:49.700966Z",
     "start_time": "2023-03-31T20:54:49.696227Z"
    }
   },
   "outputs": [
    {
     "name": "stdout",
     "output_type": "stream",
     "text": [
      "sky model: ['catalog0']\n"
     ]
    }
   ],
   "source": [
    "print('sky model:', np.unique(sky_model.component))"
   ]
  },
  {
   "cell_type": "markdown",
   "id": "046e3283",
   "metadata": {},
   "source": [
    "### Setting up the beam object for the airy beam"
   ]
  },
  {
   "cell_type": "markdown",
   "id": "54b5979c",
   "metadata": {},
   "source": [
    "Analytic beams (uniform, gaussian, and airy disk) or cst-simulated beams can be read.\n",
    "\n",
    "In this notebook, we use a simple airy beam with a diameter of 12 m for the underilluminated HERA dish (a_x=6, a_y=6)."
   ]
  },
  {
   "cell_type": "code",
   "execution_count": 8,
   "id": "c5bb2faf",
   "metadata": {
    "ExecuteTime": {
     "end_time": "2023-03-31T20:54:49.708841Z",
     "start_time": "2023-03-31T20:54:49.703475Z"
    }
   },
   "outputs": [],
   "source": [
    "beam_model = Beam_Model(freqs)\n",
    "beam_model.read_airy_beam(0, ants) # default parameter is x_pc=0, y_pc=0, a_x=6.0, a_y=6.0"
   ]
  },
  {
   "cell_type": "code",
   "execution_count": 9,
   "id": "05f6324c",
   "metadata": {
    "ExecuteTime": {
     "end_time": "2023-03-31T20:54:49.717638Z",
     "start_time": "2023-03-31T20:54:49.711433Z"
    }
   },
   "outputs": [
    {
     "data": {
      "text/plain": [
       "{0: <function VisPB.beam_model.Beam_Model.read_airy_beam.<locals>.beam_function(phi, theta, x_pc=0.0, y_pc=0.0, a_x=6.0, a_y=6.0)>}"
      ]
     },
     "execution_count": 9,
     "metadata": {},
     "output_type": "execute_result"
    }
   ],
   "source": [
    "beam_model.beam_dict"
   ]
  },
  {
   "cell_type": "code",
   "execution_count": 10,
   "id": "e9afa966",
   "metadata": {
    "ExecuteTime": {
     "end_time": "2023-03-31T20:54:49.726686Z",
     "start_time": "2023-03-31T20:54:49.721905Z"
    }
   },
   "outputs": [
    {
     "data": {
      "text/plain": [
       "{0: 0, 1: 0, 2: 0, 3: 0, 4: 0, 5: 0, 6: 0}"
      ]
     },
     "execution_count": 10,
     "metadata": {},
     "output_type": "execute_result"
    }
   ],
   "source": [
    "beam_model.which_beam"
   ]
  },
  {
   "cell_type": "markdown",
   "id": "9c4d8ee7",
   "metadata": {},
   "source": [
    "### Setting up and starting the visibility simulation"
   ]
  },
  {
   "cell_type": "markdown",
   "id": "05467686",
   "metadata": {},
   "source": [
    "Sky_Model and Beam_Model defined above will be used in Vis_Simulator."
   ]
  },
  {
   "cell_type": "code",
   "execution_count": 11,
   "id": "a8c3eefa",
   "metadata": {
    "ExecuteTime": {
     "end_time": "2023-03-31T20:54:49.739255Z",
     "start_time": "2023-03-31T20:54:49.728870Z"
    }
   },
   "outputs": [
    {
     "name": "stdout",
     "output_type": "stream",
     "text": [
      "'telescope_lat_lon_alt_deg' is not specified. HERA site location will be used.\n"
     ]
    }
   ],
   "source": [
    "sim = Vis_Simulator(sky_model, beam_model, antenna_config,\n",
    "                    ants=ants, memory_limit=2, Nthread=8)"
   ]
  },
  {
   "cell_type": "code",
   "execution_count": 12,
   "id": "563cc969",
   "metadata": {
    "ExecuteTime": {
     "end_time": "2023-03-31T20:54:52.543700Z",
     "start_time": "2023-03-31T20:54:49.741611Z"
    }
   },
   "outputs": [
    {
     "name": "stdout",
     "output_type": "stream",
     "text": [
      "Given estimated total memory need 1.7 MB and memory_limit 2.0 GB, the frequency band is chuncked to 1 piece(s).\n",
      "\n",
      "-------- LST: 9.512 deg (1/20) --------\n",
      "Converting ra/dec to az/alt...\n",
      "Selecting sources above the horizon\n",
      "  catalog0: 23 out of 50\n",
      "\n",
      "Beam interpolation at (az, alt) for 1 beam(s)...\n",
      "100%|\u001b[32m██████████████████████████████████\u001b[0m| 1/1 [00:00<00:00, 297.45it/s]\u001b[0m\n",
      "\n",
      "Calculate frequency subgroup (1/1): 120.000 - 180.000 MHz (121)\n",
      "Starting visibility calculation...\n",
      "100%|\u001b[34m██████████████████████████████████\u001b[0m| 2/2 [00:00<00:00, 155.22it/s]\u001b[0m\n",
      "\n",
      "-------- LST: 9.554 deg (2/20) --------\n",
      "Converting ra/dec to az/alt...\n",
      "Selecting sources above the horizon\n",
      "  catalog0: 23 out of 50\n",
      "\n",
      "Beam interpolation at (az, alt) for 1 beam(s)...\n",
      "100%|\u001b[32m██████████████████████████████████\u001b[0m| 1/1 [00:00<00:00, 142.61it/s]\u001b[0m\n",
      "\n",
      "Calculate frequency subgroup (1/1): 120.000 - 180.000 MHz (121)\n",
      "Starting visibility calculation...\n",
      "100%|\u001b[34m██████████████████████████████████\u001b[0m| 2/2 [00:00<00:00, 156.47it/s]\u001b[0m\n",
      "\n",
      "-------- LST: 9.596 deg (3/20) --------\n",
      "Converting ra/dec to az/alt...\n",
      "Selecting sources above the horizon\n",
      "  catalog0: 23 out of 50\n",
      "\n",
      "Beam interpolation at (az, alt) for 1 beam(s)...\n",
      "100%|\u001b[32m██████████████████████████████████\u001b[0m| 1/1 [00:00<00:00, 157.76it/s]\u001b[0m\n",
      "\n",
      "Calculate frequency subgroup (1/1): 120.000 - 180.000 MHz (121)\n",
      "Starting visibility calculation...\n",
      "100%|\u001b[34m██████████████████████████████████\u001b[0m| 2/2 [00:00<00:00, 149.13it/s]\u001b[0m\n",
      "\n",
      "-------- LST: 9.638 deg (4/20) --------\n",
      "Converting ra/dec to az/alt...\n",
      "Selecting sources above the horizon\n",
      "  catalog0: 23 out of 50\n",
      "\n",
      "Beam interpolation at (az, alt) for 1 beam(s)...\n",
      "100%|\u001b[32m██████████████████████████████████\u001b[0m| 1/1 [00:00<00:00, 145.07it/s]\u001b[0m\n",
      "\n",
      "Calculate frequency subgroup (1/1): 120.000 - 180.000 MHz (121)\n",
      "Starting visibility calculation...\n",
      "100%|\u001b[34m██████████████████████████████████\u001b[0m| 2/2 [00:00<00:00, 179.65it/s]\u001b[0m\n",
      "\n",
      "-------- LST: 9.680 deg (5/20) --------\n",
      "Converting ra/dec to az/alt...\n",
      "Selecting sources above the horizon\n",
      "  catalog0: 23 out of 50\n",
      "\n",
      "Beam interpolation at (az, alt) for 1 beam(s)...\n",
      "100%|\u001b[32m██████████████████████████████████\u001b[0m| 1/1 [00:00<00:00, 214.49it/s]\u001b[0m\n",
      "\n",
      "Calculate frequency subgroup (1/1): 120.000 - 180.000 MHz (121)\n",
      "Starting visibility calculation...\n",
      "100%|\u001b[34m██████████████████████████████████\u001b[0m| 2/2 [00:00<00:00, 145.25it/s]\u001b[0m\n",
      "\n",
      "-------- LST: 9.721 deg (6/20) --------\n",
      "Converting ra/dec to az/alt...\n",
      "Selecting sources above the horizon\n",
      "  catalog0: 23 out of 50\n",
      "\n",
      "Beam interpolation at (az, alt) for 1 beam(s)...\n",
      "100%|\u001b[32m██████████████████████████████████\u001b[0m| 1/1 [00:00<00:00, 199.90it/s]\u001b[0m\n",
      "\n",
      "Calculate frequency subgroup (1/1): 120.000 - 180.000 MHz (121)\n",
      "Starting visibility calculation...\n",
      "100%|\u001b[34m██████████████████████████████████\u001b[0m| 2/2 [00:00<00:00, 156.11it/s]\u001b[0m\n",
      "\n",
      "-------- LST: 9.763 deg (7/20) --------\n",
      "Converting ra/dec to az/alt...\n",
      "Selecting sources above the horizon\n",
      "  catalog0: 23 out of 50\n",
      "\n",
      "Beam interpolation at (az, alt) for 1 beam(s)...\n",
      "100%|\u001b[32m██████████████████████████████████\u001b[0m| 1/1 [00:00<00:00, 163.29it/s]\u001b[0m\n",
      "\n",
      "Calculate frequency subgroup (1/1): 120.000 - 180.000 MHz (121)\n",
      "Starting visibility calculation...\n",
      "100%|\u001b[34m██████████████████████████████████\u001b[0m| 2/2 [00:00<00:00, 144.84it/s]\u001b[0m\n",
      "\n",
      "-------- LST: 9.805 deg (8/20) --------\n",
      "Converting ra/dec to az/alt...\n",
      "Selecting sources above the horizon\n",
      "  catalog0: 23 out of 50\n",
      "\n",
      "Beam interpolation at (az, alt) for 1 beam(s)...\n",
      "100%|\u001b[32m██████████████████████████████████\u001b[0m| 1/1 [00:00<00:00, 149.75it/s]\u001b[0m\n",
      "\n",
      "Calculate frequency subgroup (1/1): 120.000 - 180.000 MHz (121)\n",
      "Starting visibility calculation...\n",
      "100%|\u001b[34m██████████████████████████████████\u001b[0m| 2/2 [00:00<00:00, 157.78it/s]\u001b[0m\n",
      "\n",
      "-------- LST: 9.847 deg (9/20) --------\n",
      "Converting ra/dec to az/alt...\n",
      "Selecting sources above the horizon\n",
      "  catalog0: 23 out of 50\n",
      "\n",
      "Beam interpolation at (az, alt) for 1 beam(s)...\n",
      "100%|\u001b[32m██████████████████████████████████\u001b[0m| 1/1 [00:00<00:00, 155.83it/s]\u001b[0m\n",
      "\n",
      "Calculate frequency subgroup (1/1): 120.000 - 180.000 MHz (121)\n",
      "Starting visibility calculation...\n",
      "100%|\u001b[34m██████████████████████████████████\u001b[0m| 2/2 [00:00<00:00, 138.51it/s]\u001b[0m\n",
      "\n",
      "-------- LST: 9.888 deg (10/20) --------\n",
      "Converting ra/dec to az/alt...\n",
      "Selecting sources above the horizon\n",
      "  catalog0: 23 out of 50\n",
      "\n",
      "Beam interpolation at (az, alt) for 1 beam(s)...\n",
      "100%|\u001b[32m██████████████████████████████████\u001b[0m| 1/1 [00:00<00:00, 123.85it/s]\u001b[0m\n",
      "\n",
      "Calculate frequency subgroup (1/1): 120.000 - 180.000 MHz (121)\n",
      "Starting visibility calculation...\n",
      "100%|\u001b[34m██████████████████████████████████\u001b[0m| 2/2 [00:00<00:00, 135.09it/s]\u001b[0m\n",
      "\n",
      "-------- LST: 9.930 deg (11/20) --------\n",
      "Converting ra/dec to az/alt...\n",
      "Selecting sources above the horizon\n",
      "  catalog0: 23 out of 50\n",
      "\n",
      "Beam interpolation at (az, alt) for 1 beam(s)...\n",
      "100%|\u001b[32m██████████████████████████████████\u001b[0m| 1/1 [00:00<00:00, 174.60it/s]\u001b[0m\n",
      "\n",
      "Calculate frequency subgroup (1/1): 120.000 - 180.000 MHz (121)\n",
      "Starting visibility calculation...\n",
      "100%|\u001b[34m██████████████████████████████████\u001b[0m| 2/2 [00:00<00:00, 146.97it/s]\u001b[0m\n",
      "\n",
      "-------- LST: 9.972 deg (12/20) --------\n",
      "Converting ra/dec to az/alt...\n",
      "Selecting sources above the horizon\n",
      "  catalog0: 23 out of 50\n",
      "\n",
      "Beam interpolation at (az, alt) for 1 beam(s)...\n",
      "100%|\u001b[32m██████████████████████████████████\u001b[0m| 1/1 [00:00<00:00, 214.89it/s]\u001b[0m\n",
      "\n",
      "Calculate frequency subgroup (1/1): 120.000 - 180.000 MHz (121)\n",
      "Starting visibility calculation...\n",
      "100%|\u001b[34m██████████████████████████████████\u001b[0m| 2/2 [00:00<00:00, 148.61it/s]\u001b[0m\n",
      "\n",
      "-------- LST: 10.014 deg (13/20) --------\n",
      "Converting ra/dec to az/alt...\n",
      "Selecting sources above the horizon\n",
      "  catalog0: 23 out of 50\n",
      "\n",
      "Beam interpolation at (az, alt) for 1 beam(s)...\n",
      "100%|\u001b[32m██████████████████████████████████\u001b[0m| 1/1 [00:00<00:00, 155.25it/s]\u001b[0m\n",
      "\n",
      "Calculate frequency subgroup (1/1): 120.000 - 180.000 MHz (121)\n",
      "Starting visibility calculation...\n",
      "100%|\u001b[34m██████████████████████████████████\u001b[0m| 2/2 [00:00<00:00, 118.56it/s]\u001b[0m\n",
      "\n",
      "-------- LST: 10.056 deg (14/20) --------\n",
      "Converting ra/dec to az/alt...\n",
      "Selecting sources above the horizon\n",
      "  catalog0: 23 out of 50\n",
      "\n",
      "Beam interpolation at (az, alt) for 1 beam(s)...\n",
      "100%|\u001b[32m██████████████████████████████████\u001b[0m| 1/1 [00:00<00:00, 142.59it/s]\u001b[0m\n",
      "\n",
      "Calculate frequency subgroup (1/1): 120.000 - 180.000 MHz (121)\n",
      "Starting visibility calculation...\n",
      "100%|\u001b[34m██████████████████████████████████\u001b[0m| 2/2 [00:00<00:00, 144.57it/s]\u001b[0m\n",
      "\n",
      "-------- LST: 10.097 deg (15/20) --------\n",
      "Converting ra/dec to az/alt...\n",
      "Selecting sources above the horizon\n",
      "  catalog0: 23 out of 50\n",
      "\n",
      "Beam interpolation at (az, alt) for 1 beam(s)...\n",
      "100%|\u001b[32m██████████████████████████████████\u001b[0m| 1/1 [00:00<00:00, 182.03it/s]\u001b[0m\n",
      "\n",
      "Calculate frequency subgroup (1/1): 120.000 - 180.000 MHz (121)\n",
      "Starting visibility calculation...\n",
      "100%|\u001b[34m██████████████████████████████████\u001b[0m| 2/2 [00:00<00:00, 147.79it/s]\u001b[0m\n",
      "\n",
      "-------- LST: 10.139 deg (16/20) --------\n",
      "Converting ra/dec to az/alt...\n",
      "Selecting sources above the horizon\n",
      "  catalog0: 23 out of 50\n",
      "\n",
      "Beam interpolation at (az, alt) for 1 beam(s)...\n",
      "100%|\u001b[32m██████████████████████████████████\u001b[0m| 1/1 [00:00<00:00, 209.12it/s]\u001b[0m\n",
      "\n",
      "Calculate frequency subgroup (1/1): 120.000 - 180.000 MHz (121)\n",
      "Starting visibility calculation...\n",
      "100%|\u001b[34m██████████████████████████████████\u001b[0m| 2/2 [00:00<00:00, 144.83it/s]\u001b[0m\n",
      "\n",
      "-------- LST: 10.181 deg (17/20) --------\n",
      "Converting ra/dec to az/alt...\n",
      "Selecting sources above the horizon\n",
      "  catalog0: 23 out of 50\n",
      "\n",
      "Beam interpolation at (az, alt) for 1 beam(s)...\n",
      "100%|\u001b[32m██████████████████████████████████\u001b[0m| 1/1 [00:00<00:00, 166.22it/s]\u001b[0m\n",
      "\n",
      "Calculate frequency subgroup (1/1): 120.000 - 180.000 MHz (121)\n",
      "Starting visibility calculation...\n",
      "100%|\u001b[34m██████████████████████████████████\u001b[0m| 2/2 [00:00<00:00, 144.59it/s]\u001b[0m\n",
      "\n",
      "-------- LST: 10.223 deg (18/20) --------\n",
      "Converting ra/dec to az/alt...\n",
      "Selecting sources above the horizon\n",
      "  catalog0: 23 out of 50\n",
      "\n",
      "Beam interpolation at (az, alt) for 1 beam(s)...\n",
      "100%|\u001b[32m██████████████████████████████████\u001b[0m| 1/1 [00:00<00:00, 218.27it/s]\u001b[0m\n",
      "\n",
      "Calculate frequency subgroup (1/1): 120.000 - 180.000 MHz (121)\n",
      "Starting visibility calculation...\n",
      "100%|\u001b[34m██████████████████████████████████\u001b[0m| 2/2 [00:00<00:00, 147.57it/s]\u001b[0m\n",
      "\n",
      "-------- LST: 10.265 deg (19/20) --------\n",
      "Converting ra/dec to az/alt...\n",
      "Selecting sources above the horizon\n",
      "  catalog0: 23 out of 50\n",
      "\n",
      "Beam interpolation at (az, alt) for 1 beam(s)...\n",
      "100%|\u001b[32m██████████████████████████████████\u001b[0m| 1/1 [00:00<00:00, 207.17it/s]\u001b[0m\n",
      "\n",
      "Calculate frequency subgroup (1/1): 120.000 - 180.000 MHz (121)\n",
      "Starting visibility calculation...\n",
      "100%|\u001b[34m██████████████████████████████████\u001b[0m| 2/2 [00:00<00:00, 153.48it/s]\u001b[0m\n",
      "\n",
      "-------- LST: 10.306 deg (20/20) --------\n",
      "Converting ra/dec to az/alt...\n",
      "Selecting sources above the horizon\n",
      "  catalog0: 23 out of 50\n",
      "\n",
      "Beam interpolation at (az, alt) for 1 beam(s)...\n",
      "100%|\u001b[32m██████████████████████████████████\u001b[0m| 1/1 [00:00<00:00, 202.19it/s]\u001b[0m\n",
      "\n",
      "Calculate frequency subgroup (1/1): 120.000 - 180.000 MHz (121)\n",
      "Starting visibility calculation...\n",
      "100%|\u001b[34m██████████████████████████████████\u001b[0m| 2/2 [00:00<00:00, 199.72it/s]\u001b[0m\n",
      "Total elapse time: 2.16s\n",
      "\n"
     ]
    }
   ],
   "source": [
    "time_array = 2458209.93985 + np.arange(20)*10/(24*3600.)\n",
    "sim.run(time_array)"
   ]
  },
  {
   "cell_type": "markdown",
   "id": "5101bb74",
   "metadata": {},
   "source": [
    "You can convert the Vis_Simulator object to UVData object for each sky model."
   ]
  },
  {
   "cell_type": "code",
   "execution_count": 13,
   "id": "2d121d1f",
   "metadata": {
    "ExecuteTime": {
     "end_time": "2023-03-31T20:54:52.581844Z",
     "start_time": "2023-03-31T20:54:52.549338Z"
    }
   },
   "outputs": [],
   "source": [
    "uvd = sim.get_UVData(\"catalog0\")"
   ]
  },
  {
   "cell_type": "markdown",
   "id": "ae2191e3",
   "metadata": {},
   "source": [
    "Redundancy check for redundant baselines"
   ]
  },
  {
   "cell_type": "code",
   "execution_count": 14,
   "id": "d67e595d",
   "metadata": {
    "ExecuteTime": {
     "end_time": "2023-03-31T20:54:53.383870Z",
     "start_time": "2023-03-31T20:54:52.585876Z"
    }
   },
   "outputs": [
    {
     "data": {
      "image/png": "[encoded data removed]",
      "text/plain": [
       "<Figure size 900x400 with 6 Axes>"
      ]
     },
     "metadata": {},
     "output_type": "display_data"
    }
   ],
   "source": [
    "bls_plot = [(0, 1), (2, 3)]\n",
    "\n",
    "lsts_hr = np.rad2deg(np.unique(uvd.lst_array)) / 15\n",
    "freqs_MHz = freqs * 1e-6\n",
    "\n",
    "fig = plt.figure(figsize=(9,4), dpi=100)\n",
    "axes = fig.subplots(1,3)\n",
    "for i, bl in enumerate(bls_plot):\n",
    "    ax = axes[i]\n",
    "    im = ax.imshow(np.abs(uvd.get_data(bl+('ee',))), aspect='auto',\n",
    "                   extent=[freqs_MHz.min(), freqs_MHz.max(), lsts_hr.max(), lsts_hr.min()])\n",
    "    ax.set_title(bl)\n",
    "    ax.set_xlabel('Frequency (MHz)')\n",
    "    if(i == 0):\n",
    "        ax.set_ylabel('LST (hr)')\n",
    "    cb = fig.colorbar(im, orientation='horizontal', pad=0.2)\n",
    "    cb.set_label('Jy')\n",
    "ax = axes[2]\n",
    "im = ax.imshow(np.abs(uvd.get_data(bls_plot[0]+('ee',)))-np.abs(uvd.get_data(bls_plot[1]+('ee',))), aspect='auto',\n",
    "               extent=[freqs_MHz.min(), freqs_MHz.max(), lsts_hr.max(), lsts_hr.min()])\n",
    "ax.set_title('difference')\n",
    "ax.set_xlabel('Frequency (MHz)')\n",
    "cb = fig.colorbar(im, orientation='horizontal', pad=0.2)\n",
    "cb.set_label('Jy')\n",
    "\n",
    "fig.subplots_adjust(wspace=0.25)"
   ]
  },
  {
   "cell_type": "code",
   "execution_count": null,
   "id": "4771220e",
   "metadata": {},
   "outputs": [],
   "source": []
  }
 ],
 "metadata": {
  "kernelspec": {
   "display_name": "hera",
   "language": "python",
   "name": "hera"
  },
  "language_info": {
   "codemirror_mode": {
    "name": "ipython",
    "version": 3
   },
   "file_extension": ".py",
   "mimetype": "text/x-python",
   "name": "python",
   "nbconvert_exporter": "python",
   "pygments_lexer": "ipython3",
   "version": "3.10.8"
  }
 },
 "nbformat": 4,
 "nbformat_minor": 5
}
